{
 "cells": [
  {
   "attachments": {},
   "cell_type": "markdown",
   "metadata": {},
   "source": [
    "# Assignment - 6\n",
    "\n",
    "Write a 500-word Medium post describing how you applied supervised learning to extract insights from a dataset. Using methods from module 6, you should construct a dataset of interest, identify the type of supervision problem (i.e., classification or regression), describe (and justify) your selection of the supervised learning model, and explain the supervised labels/scores you will use (i.e., where they come from and what they mean). After training and applying your model to your dataset, explain how you determined whether the model was performing well or not. Then, select 5 samples that your learning model got wrong, and discuss why you think these samples were incorrectly labeled/scored. You can collect your own data or use a pre-existing dataset for this assignment. Feel free to apply dimensionality-reduction techniques from the past module as well!\n",
    "\n"
   ]
  }
 ],
 "metadata": {
  "language_info": {
   "name": "python"
  },
  "orig_nbformat": 4
 },
 "nbformat": 4,
 "nbformat_minor": 2
}
